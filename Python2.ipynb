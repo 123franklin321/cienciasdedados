{
  "nbformat": 4,
  "nbformat_minor": 0,
  "metadata": {
    "colab": {
      "provenance": [],
      "collapsed_sections": [],
      "authorship_tag": "ABX9TyOeDi97T885NHSRrr2ulmVR",
      "include_colab_link": true
    },
    "kernelspec": {
      "name": "python3",
      "display_name": "Python 3"
    },
    "language_info": {
      "name": "python"
    }
  },
  "cells": [
    {
      "cell_type": "markdown",
      "metadata": {
        "id": "view-in-github",
        "colab_type": "text"
      },
      "source": [
        "<a href=\"https://colab.research.google.com/github/123franklin321/meu_primeiro_codigo.py/blob/master/Python2.ipynb\" target=\"_parent\"><img src=\"https://colab.research.google.com/assets/colab-badge.svg\" alt=\"Open In Colab\"/></a>"
      ]
    },
    {
      "cell_type": "code",
      "execution_count": null,
      "metadata": {
        "colab": {
          "base_uri": "https://localhost:8080/"
        },
        "id": "XCMxHGZ7O1v4",
        "outputId": "38624dc1-1905-4623-cf85-7164d67cf80c"
      },
      "outputs": [
        {
          "output_type": "stream",
          "name": "stdout",
          "text": [
            "['ana', 'bruno', 'joao', 'maria'] <class 'list'> 4\n"
          ]
        }
      ],
      "source": [
        "nomes = ['ana', 'bruno', 'joao', 'maria']\n",
        "print(nomes, type(nomes), len(nomes))"
      ]
    },
    {
      "cell_type": "code",
      "source": [
        "'bruno' in nomes "
      ],
      "metadata": {
        "colab": {
          "base_uri": "https://localhost:8080/"
        },
        "id": "kv1cIqa4dbaB",
        "outputId": "45152aec-d6ca-48da-bc99-2ee1085956f0"
      },
      "execution_count": null,
      "outputs": [
        {
          "output_type": "execute_result",
          "data": {
            "text/plain": [
              "True"
            ]
          },
          "metadata": {},
          "execution_count": 2
        }
      ]
    },
    {
      "cell_type": "code",
      "source": [
        "'carlos' in nomes "
      ],
      "metadata": {
        "colab": {
          "base_uri": "https://localhost:8080/"
        },
        "id": "ZL1Tx6c4dmLr",
        "outputId": "00a2fb98-4936-4272-a56a-255e96dbc241"
      },
      "execution_count": null,
      "outputs": [
        {
          "output_type": "execute_result",
          "data": {
            "text/plain": [
              "False"
            ]
          },
          "metadata": {},
          "execution_count": 4
        }
      ]
    },
    {
      "cell_type": "code",
      "source": [
        "nome = 'ana'\n",
        "\n",
        "if nome in nomes: \n",
        "    print(f'{nome} esta na lista')"
      ],
      "metadata": {
        "colab": {
          "base_uri": "https://localhost:8080/"
        },
        "id": "-3b5Xiq1dxFr",
        "outputId": "27481cef-2f61-4b0a-dd56-326ec652a81d"
      },
      "execution_count": null,
      "outputs": [
        {
          "output_type": "stream",
          "name": "stdout",
          "text": [
            "ana esta na lista\n"
          ]
        }
      ]
    },
    {
      "cell_type": "markdown",
      "source": [
        "nome = 'ana'\n",
        "\n",
        "print('inicio')\n",
        "\n",
        "if nome in nomes:\n",
        "    print(f'{nome} esta na lista')\n",
        "\n",
        "print('fim')"
      ],
      "metadata": {
        "id": "c4bH8F5NebYX"
      }
    },
    {
      "cell_type": "code",
      "source": [
        "nome = 'clarice'\n",
        "\n",
        "print('inicio')\n",
        "\n",
        "if nome in nomes: \n",
        "    print(f'{nome} esta na lista')\n",
        "else:\n",
        "    print(f'{nome} não esta na lista')\n",
        "\n",
        "print('fim')"
      ],
      "metadata": {
        "colab": {
          "base_uri": "https://localhost:8080/"
        },
        "id": "u9zdwSudewo7",
        "outputId": "8a50bcc5-7285-4e3d-dfb5-ec30d3de0c79"
      },
      "execution_count": null,
      "outputs": [
        {
          "output_type": "stream",
          "name": "stdout",
          "text": [
            "inicio\n",
            "clarice não esta na lista\n",
            "fim\n"
          ]
        }
      ]
    },
    {
      "cell_type": "code",
      "source": [
        "x = 100\n",
        "print('inicio')\n",
        "\n",
        "if (x % 2) == 0:  \n",
        "    print('x e um numero par')\n",
        "elif x > 50:\n",
        "    print('x não e par e é maior que 50')\n",
        "else: \n",
        "    print('x e impar e menor do que 50')\n",
        "\n",
        "print('fim')"
      ],
      "metadata": {
        "colab": {
          "base_uri": "https://localhost:8080/"
        },
        "id": "drFDTlP7fP7h",
        "outputId": "5ce8184d-f588-4415-c22e-95b48f33b233"
      },
      "execution_count": null,
      "outputs": [
        {
          "output_type": "stream",
          "name": "stdout",
          "text": [
            "inicio\n",
            "x e um numero par\n",
            "fim\n"
          ]
        }
      ]
    },
    {
      "cell_type": "code",
      "source": [
        "x = 51\n",
        "print('inicio')\n",
        "\n",
        "if (x % 2) == 0:  \n",
        "    print('x e um numero par')\n",
        "elif x > 50:\n",
        "    print('x não e par e é maior que 50')\n",
        "else: \n",
        "    print('x e impar e menor do que 50')\n",
        "\n",
        "print('fim')"
      ],
      "metadata": {
        "colab": {
          "base_uri": "https://localhost:8080/"
        },
        "id": "bc6_c7oaiv40",
        "outputId": "9dbc38ec-e9c8-46d6-8269-d04df2836c62"
      },
      "execution_count": null,
      "outputs": [
        {
          "output_type": "stream",
          "name": "stdout",
          "text": [
            "inicio\n",
            "x não e par e é maior que 50\n",
            "fim\n"
          ]
        }
      ]
    },
    {
      "cell_type": "code",
      "source": [
        "x = 49\n",
        "print('inicio')\n",
        "\n",
        "if (x % 2) == 0:  \n",
        "    print('x e um numero par')\n",
        "elif x > 50:\n",
        "    print('x não e par e é maior que 50')\n",
        "else: \n",
        "    print('x e impar e menor do que 50')\n",
        "\n",
        "print('fim')"
      ],
      "metadata": {
        "colab": {
          "base_uri": "https://localhost:8080/"
        },
        "id": "yHm-LSVdi3sE",
        "outputId": "b34fdff7-3519-4b3b-b2c5-f35aa3dfe8b3"
      },
      "execution_count": null,
      "outputs": [
        {
          "output_type": "stream",
          "name": "stdout",
          "text": [
            "inicio\n",
            "x e impar e menor do que 50\n",
            "fim\n"
          ]
        }
      ]
    },
    {
      "cell_type": "code",
      "source": [
        "100 == 100"
      ],
      "metadata": {
        "colab": {
          "base_uri": "https://localhost:8080/"
        },
        "id": "JaLiVKv3jIsy",
        "outputId": "a666343f-b2fc-4d1c-fae8-f5a0782c041f"
      },
      "execution_count": null,
      "outputs": [
        {
          "output_type": "execute_result",
          "data": {
            "text/plain": [
              "True"
            ]
          },
          "metadata": {},
          "execution_count": 28
        }
      ]
    },
    {
      "cell_type": "code",
      "source": [
        "100 <= 99"
      ],
      "metadata": {
        "colab": {
          "base_uri": "https://localhost:8080/"
        },
        "id": "NyOQnqdsjN3T",
        "outputId": "ac01248f-e6bb-4267-d887-e246e4c0f4ed"
      },
      "execution_count": null,
      "outputs": [
        {
          "output_type": "execute_result",
          "data": {
            "text/plain": [
              "False"
            ]
          },
          "metadata": {},
          "execution_count": 16
        }
      ]
    },
    {
      "cell_type": "code",
      "source": [
        "100 > 100"
      ],
      "metadata": {
        "colab": {
          "base_uri": "https://localhost:8080/"
        },
        "id": "z53h_ro3jYz6",
        "outputId": "1ae65780-c235-4f1c-f6df-ff558a728e3a"
      },
      "execution_count": null,
      "outputs": [
        {
          "output_type": "execute_result",
          "data": {
            "text/plain": [
              "False"
            ]
          },
          "metadata": {},
          "execution_count": 17
        }
      ]
    },
    {
      "cell_type": "code",
      "source": [
        "if 'a' :\n",
        "    print('string nao esta vazia')"
      ],
      "metadata": {
        "colab": {
          "base_uri": "https://localhost:8080/"
        },
        "id": "6ULDkurDjbEW",
        "outputId": "65df2823-20a3-4913-d6ec-19807ff8f81a"
      },
      "execution_count": null,
      "outputs": [
        {
          "output_type": "stream",
          "name": "stdout",
          "text": [
            "string nao esta vazia\n"
          ]
        }
      ]
    },
    {
      "cell_type": "code",
      "source": [
        "if not []:\n",
        "    print('esta vazia')"
      ],
      "metadata": {
        "colab": {
          "base_uri": "https://localhost:8080/"
        },
        "id": "4D9ryGhZkDz0",
        "outputId": "228a3d26-3af7-45cb-cfcf-d1e1f5e2ff9a"
      },
      "execution_count": null,
      "outputs": [
        {
          "output_type": "stream",
          "name": "stdout",
          "text": [
            "esta vazia\n"
          ]
        }
      ]
    },
    {
      "cell_type": "code",
      "source": [
        "if not None: \n",
        "    print('e None')"
      ],
      "metadata": {
        "colab": {
          "base_uri": "https://localhost:8080/"
        },
        "id": "0_8WfpEhkOWA",
        "outputId": "6078fc08-af0e-4ba6-a5d2-8de36bb3d6e3"
      },
      "execution_count": null,
      "outputs": [
        {
          "output_type": "stream",
          "name": "stdout",
          "text": [
            "e None\n"
          ]
        }
      ]
    },
    {
      "cell_type": "code",
      "source": [],
      "metadata": {
        "id": "KQsIC_-YkcVW"
      },
      "execution_count": null,
      "outputs": []
    }
  ]
}