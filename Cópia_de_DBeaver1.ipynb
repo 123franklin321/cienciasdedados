{
  "nbformat": 4,
  "nbformat_minor": 0,
  "metadata": {
    "colab": {
      "provenance": [],
      "authorship_tag": "ABX9TyO6s0Vu5zgKcQ3Y/cWtAv4p",
      "include_colab_link": true
    },
    "kernelspec": {
      "name": "python3",
      "display_name": "Python 3"
    },
    "language_info": {
      "name": "python"
    }
  },
  "cells": [
    {
      "cell_type": "markdown",
      "metadata": {
        "id": "view-in-github",
        "colab_type": "text"
      },
      "source": [
        "<a href=\"https://colab.research.google.com/github/123franklin321/cienciasdedados/blob/master/C%C3%B3pia_de_DBeaver1.ipynb\" target=\"_parent\"><img src=\"https://colab.research.google.com/assets/colab-badge.svg\" alt=\"Open In Colab\"/></a>"
      ]
    },
    {
      "cell_type": "code",
      "execution_count": null,
      "metadata": {
        "id": "0Snwy5U1p9Gy"
      },
      "outputs": [],
      "source": [
        "SELECT \n",
        "COUNT(o.order_id) qtd_pedido, \n",
        "c.customer_city AS  cidade\n",
        "FROM olist_orders_dataset AS o\n",
        "JOIN olist_customers_dataset AS c\n",
        "ON c.custumer_id = o.customer_id\n",
        "GROUP BY c.customer_city\n",
        "ORDER BY  qtd_pedido DESC\n",
        "LIMIT 10;\n",
        "\n",
        "\n",
        "\n",
        "\n",
        "\n",
        "SELECT\n",
        "    p.product_category_name AS categoria,\n",
        "    COUNT(o.order_id) AS qtd_pedido\n",
        "FROM olist_products_dataset AS p\n",
        "JOIN olist_order_items_dataset AS oi\n",
        "ON p.product_id = oi.product_id\n",
        "JOIN olist_orders_dataset AS o\n",
        "ON oi.order_id = o.order_id\n",
        "JOIN olist_order_payments_dataset AS op \n",
        "ON oi.order_id = op.order_id\n",
        "WHERE op.payment_type = 'credit_card'\n",
        "GROUP BY p.product_category_name\n",
        "ORDER BY qtd_pedido DESC \n",
        "LIMIT 10;\n",
        "\n",
        "\n",
        "SELECT\n",
        "    COUNT(c.custumer_id) cidade,\n",
        "    p.payment_value AS valor\n",
        "FROM olist_customers_dataset AS c\n",
        "JOIN olist_order_payments_dataset AS p \n",
        "ON c.customer_city = p.payment_value\n",
        "GROUP BY p.payment_value \n",
        "ORDER BY cidade DESC \n",
        "LIMIT 10;\n",
        "\n",
        "\n",
        "SELECT\n",
        "    COUNT(o.order_id) AS vendas,\n",
        "    ve.seller_id AS vendedor\n",
        "FROM olist_order_items_dataset AS o\n",
        "JOIN olist_sellers_dataset AS ve\n",
        "ON o.seller_id = ve.seller_id \n",
        "GROUP BY ve.seller_id \n",
        "ORDER BY vendedor DESC  \n",
        "LIMIT 10;\n",
        "\n",
        "SELECT\n",
        "    COUNT(c.product_category_name) AS categoria,\n",
        "    f.freight_value AS frete\n",
        "FROM olist_products_dataset AS c\n",
        "JOIN olist_order_items_dataset AS f \n",
        "ON c.product_id = f.product_id \n",
        "JOIN olist_orders_dataset AS p \n",
        "ON f.order_id = p.order_id \n",
        "JOIN olist_order_payments_dataset AS op \n",
        "ON c.product_id = op.order_id \n",
        "WHERE f.freight_value = 'pior frete'\n",
        "GROUP BY f.freight_value \n",
        "ORDER BY categoria ASC \n",
        "LIMIT 10;\n"
      ]
    },
    {
      "cell_type": "markdown",
      "source": [
        "relação de tabelas feita consulta no olist "
      ],
      "metadata": {
        "id": "ta7EwMqjqISo"
      }
    }
  ]
}