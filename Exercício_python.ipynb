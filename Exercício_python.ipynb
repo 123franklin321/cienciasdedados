{
  "nbformat": 4,
  "nbformat_minor": 0,
  "metadata": {
    "colab": {
      "provenance": [],
      "collapsed_sections": [],
      "authorship_tag": "ABX9TyMsOaNzkkOW8XLOae3GrvfT",
      "include_colab_link": true
    },
    "kernelspec": {
      "name": "python3",
      "display_name": "Python 3"
    },
    "language_info": {
      "name": "python"
    }
  },
  "cells": [
    {
      "cell_type": "markdown",
      "metadata": {
        "id": "view-in-github",
        "colab_type": "text"
      },
      "source": [
        "<a href=\"https://colab.research.google.com/github/123franklin321/meu_primeiro_codigo.py/blob/master/Exerc%C3%ADcio_python.ipynb\" target=\"_parent\"><img src=\"https://colab.research.google.com/assets/colab-badge.svg\" alt=\"Open In Colab\"/></a>"
      ]
    },
    {
      "cell_type": "code",
      "execution_count": null,
      "metadata": {
        "id": "yNVYSlHbBMP1"
      },
      "outputs": [],
      "source": [
        "cadastro = 'Franklin', 42, 12345"
      ]
    },
    {
      "cell_type": "code",
      "source": [
        "print(cadastro, type(cadastro))"
      ],
      "metadata": {
        "colab": {
          "base_uri": "https://localhost:8080/"
        },
        "id": "zlWx9mbkCyUv",
        "outputId": "8f233344-c13f-4121-e698-5969af66181b"
      },
      "execution_count": null,
      "outputs": [
        {
          "output_type": "stream",
          "name": "stdout",
          "text": [
            "('Franklin', 42, 12345) <class 'tuple'>\n"
          ]
        }
      ]
    },
    {
      "cell_type": "code",
      "source": [
        "cadastro = 'Leidiane', 28, 54321\n",
        "print(cadastro, type(cadastro))\n"
      ],
      "metadata": {
        "colab": {
          "base_uri": "https://localhost:8080/"
        },
        "id": "FvPBTmuRC7UW",
        "outputId": "141398ca-cbf9-46ca-fded-8606b33364b5"
      },
      "execution_count": null,
      "outputs": [
        {
          "output_type": "stream",
          "name": "stdout",
          "text": [
            "('Leidiane', 28, 54321) <class 'tuple'>\n"
          ]
        }
      ]
    },
    {
      "cell_type": "code",
      "source": [
        "nome, idade, codigo= cadastro\n",
        "print(nome)\n",
        "print(idade)\n",
        "print(codigo)"
      ],
      "metadata": {
        "colab": {
          "base_uri": "https://localhost:8080/"
        },
        "id": "bYSLF59WDQEZ",
        "outputId": "c946064c-f5c3-4ffa-ad7d-b7cf1d3ffca7"
      },
      "execution_count": null,
      "outputs": [
        {
          "output_type": "stream",
          "name": "stdout",
          "text": [
            "Leidiane\n",
            "28\n",
            "54321\n"
          ]
        }
      ]
    },
    {
      "cell_type": "code",
      "source": [
        "cadastro = cadastro[0], 29, cadastro[2]\n",
        "cadastro"
      ],
      "metadata": {
        "colab": {
          "base_uri": "https://localhost:8080/"
        },
        "id": "I84NXVoODlQ-",
        "outputId": "a8a1bd83-a4bc-421e-f283-bf50715af320"
      },
      "execution_count": null,
      "outputs": [
        {
          "output_type": "execute_result",
          "data": {
            "text/plain": [
              "('Leidiane', 29, 54321)"
            ]
          },
          "metadata": {},
          "execution_count": 5
        }
      ]
    },
    {
      "cell_type": "code",
      "source": [
        "cadastro = ('Franklin', 42, 12345, 'RO')\n",
        "print(cadastro, len(cadastro))"
      ],
      "metadata": {
        "colab": {
          "base_uri": "https://localhost:8080/"
        },
        "id": "rwUMQjOTD8cC",
        "outputId": "a5ae2e2e-cb50-441d-da2f-ebeeb66e8756"
      },
      "execution_count": null,
      "outputs": [
        {
          "output_type": "stream",
          "name": "stdout",
          "text": [
            "('Franklin', 42, 12345, 'RO') 4\n"
          ]
        }
      ]
    },
    {
      "cell_type": "code",
      "source": [
        "nome, idade, _, _ = cadastro"
      ],
      "metadata": {
        "id": "uRuPp2hhERcG"
      },
      "execution_count": null,
      "outputs": []
    },
    {
      "cell_type": "code",
      "source": [
        "nome, idade"
      ],
      "metadata": {
        "colab": {
          "base_uri": "https://localhost:8080/"
        },
        "id": "RX91Kz27EfOE",
        "outputId": "7eb1db69-0634-4e78-bee8-2618eedb4c0e"
      },
      "execution_count": null,
      "outputs": [
        {
          "output_type": "execute_result",
          "data": {
            "text/plain": [
              "('Franklin', 42)"
            ]
          },
          "metadata": {},
          "execution_count": 8
        }
      ]
    },
    {
      "cell_type": "code",
      "source": [
        "nome, idade, *restante = cadastro"
      ],
      "metadata": {
        "id": "DYL_JiAyEkYL"
      },
      "execution_count": null,
      "outputs": []
    },
    {
      "cell_type": "code",
      "source": [
        "print(nome, idade, restante)"
      ],
      "metadata": {
        "colab": {
          "base_uri": "https://localhost:8080/"
        },
        "id": "t5mLShTFEyRv",
        "outputId": "15d5c2ea-df6b-4432-aeed-ce17dabcbd03"
      },
      "execution_count": null,
      "outputs": [
        {
          "output_type": "stream",
          "name": "stdout",
          "text": [
            "Franklin 42 [12345, 'RO']\n"
          ]
        }
      ]
    },
    {
      "cell_type": "code",
      "source": [
        "len(restante)"
      ],
      "metadata": {
        "colab": {
          "base_uri": "https://localhost:8080/"
        },
        "id": "7vI603gBE21W",
        "outputId": "f42547e1-f4ad-4707-d898-45c037fe8728"
      },
      "execution_count": null,
      "outputs": [
        {
          "output_type": "execute_result",
          "data": {
            "text/plain": [
              "2"
            ]
          },
          "metadata": {},
          "execution_count": 11
        }
      ]
    },
    {
      "cell_type": "code",
      "source": [
        "cadastro = ('Franklin', 42, 12345, 'RO', [])\n",
        "print(cadastro)"
      ],
      "metadata": {
        "colab": {
          "base_uri": "https://localhost:8080/"
        },
        "id": "xRSOmgAcFCJD",
        "outputId": "04503f96-2e7e-4884-d3b7-cc0040cecfa6"
      },
      "execution_count": null,
      "outputs": [
        {
          "output_type": "stream",
          "name": "stdout",
          "text": [
            "('Franklin', 42, 12345, 'RO', [])\n"
          ]
        }
      ]
    },
    {
      "cell_type": "code",
      "source": [
        "from datetime import datetime\n",
        "\n",
        "cadastro[-1].append(datetime.today())"
      ],
      "metadata": {
        "id": "sxzkSi0FFSQo"
      },
      "execution_count": null,
      "outputs": []
    },
    {
      "cell_type": "code",
      "source": [
        "print(cadastro)"
      ],
      "metadata": {
        "colab": {
          "base_uri": "https://localhost:8080/"
        },
        "id": "d1S762rHFwQz",
        "outputId": "c08fb73b-2cca-470e-9cd0-437389e68fbe"
      },
      "execution_count": null,
      "outputs": [
        {
          "output_type": "stream",
          "name": "stdout",
          "text": [
            "('Franklin', 42, 12345, 'RO', [datetime.datetime(2022, 8, 29, 19, 32, 7, 368951)])\n"
          ]
        }
      ]
    }
  ]
}