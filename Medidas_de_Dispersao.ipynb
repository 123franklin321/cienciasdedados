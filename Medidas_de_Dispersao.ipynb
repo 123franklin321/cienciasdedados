{
  "nbformat": 4,
  "nbformat_minor": 0,
  "metadata": {
    "colab": {
      "provenance": [],
      "collapsed_sections": [],
      "authorship_tag": "ABX9TyNjHBrqA+PCYN4Nh8rzSfCm",
      "include_colab_link": true
    },
    "kernelspec": {
      "name": "python3",
      "display_name": "Python 3"
    },
    "language_info": {
      "name": "python"
    }
  },
  "cells": [
    {
      "cell_type": "markdown",
      "metadata": {
        "id": "view-in-github",
        "colab_type": "text"
      },
      "source": [
        "<a href=\"https://colab.research.google.com/github/123franklin321/meu_primeiro_codigo.py/blob/master/Medidas_de_Dispersao.ipynb\" target=\"_parent\"><img src=\"https://colab.research.google.com/assets/colab-badge.svg\" alt=\"Open In Colab\"/></a>"
      ]
    },
    {
      "cell_type": "code",
      "execution_count": 2,
      "metadata": {
        "id": "8G0lL3EsxPfy"
      },
      "outputs": [],
      "source": [
        "import pandas as pd\n",
        "import numpy as np\n",
        "import matplotlib as plt "
      ]
    },
    {
      "cell_type": "code",
      "source": [
        "df = pd.read_csv('../dataset/brazilian e-commerce public dataset by olist/olist_order_payments_dataset.csv')\n",
        "df"
      ],
      "metadata": {
        "id": "H4mPYkbm9ELz"
      },
      "execution_count": null,
      "outputs": []
    },
    {
      "cell_type": "code",
      "source": [
        "df['payment_value'].describe()"
      ],
      "metadata": {
        "id": "ccSdl-UM8vV1"
      },
      "execution_count": null,
      "outputs": []
    },
    {
      "cell_type": "code",
      "source": [
        "x_min, x_max = (df['payment_value'].min(),\n",
        "                df['payment_value'].max())\n",
        "\n",
        "print(x_min, x_max)"
      ],
      "metadata": {
        "id": "c_U2i9YT7Cgl"
      },
      "execution_count": null,
      "outputs": []
    },
    {
      "cell_type": "code",
      "source": [
        "def min_max_scaler(x, a_min, a_max):\n",
        "  '''x é um objeto pandas do tipo Series\n",
        "  '''\n",
        "  x_min, x_max = (x.min(), x.max())\n",
        "  amplitude_x = x_max - x_min\n",
        "\n",
        "  amplitude_a = a.max - a.min\n",
        "\n",
        "  return ((x - x_min)/(amplitude_x))*amplitude_a + a_min"
      ],
      "metadata": {
        "id": "8MzBf1vS7kBT"
      },
      "execution_count": null,
      "outputs": []
    },
    {
      "cell_type": "code",
      "source": [
        "x_minmax_scaled = min_max_scaler(x=df['payment_value'],\n",
        "                                 a_min=-1,\n",
        "                                 a_max=1)\n",
        "\n",
        "x_minmax_scaled"
      ],
      "metadata": {
        "id": "moFWT9Fm8oUZ"
      },
      "execution_count": null,
      "outputs": []
    },
    {
      "cell_type": "code",
      "source": [
        "x_minmax_scaled.describe()"
      ],
      "metadata": {
        "id": "LgHBOQsl-WxY"
      },
      "execution_count": null,
      "outputs": []
    },
    {
      "cell_type": "code",
      "source": [
        "plt.boxplot(x_minmax_scaled.dropna())"
      ],
      "metadata": {
        "id": "fDEJh9KR-cjY"
      },
      "execution_count": null,
      "outputs": []
    }
  ]
}