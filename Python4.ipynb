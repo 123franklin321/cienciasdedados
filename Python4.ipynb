{
  "nbformat": 4,
  "nbformat_minor": 0,
  "metadata": {
    "colab": {
      "provenance": [],
      "collapsed_sections": [],
      "authorship_tag": "ABX9TyNW5mrqlXOh+o98ZteeFu1x",
      "include_colab_link": true
    },
    "kernelspec": {
      "name": "python3",
      "display_name": "Python 3"
    },
    "language_info": {
      "name": "python"
    }
  },
  "cells": [
    {
      "cell_type": "markdown",
      "metadata": {
        "id": "view-in-github",
        "colab_type": "text"
      },
      "source": [
        "<a href=\"https://colab.research.google.com/github/123franklin321/meu_primeiro_codigo.py/blob/master/Python4.ipynb\" target=\"_parent\"><img src=\"https://colab.research.google.com/assets/colab-badge.svg\" alt=\"Open In Colab\"/></a>"
      ]
    },
    {
      "cell_type": "code",
      "execution_count": null,
      "metadata": {
        "id": "eUqjhnpyVtNm"
      },
      "outputs": [],
      "source": [
        "def raiz_quadrada(x):\n",
        "    return x ** (1 / 2)"
      ]
    },
    {
      "cell_type": "code",
      "source": [
        "raiz_quadrada(64)"
      ],
      "metadata": {
        "colab": {
          "base_uri": "https://localhost:8080/"
        },
        "id": "8MQRGZaUWVnT",
        "outputId": "3b2c4bd7-087f-46a0-979b-c6ebc5a778a8"
      },
      "execution_count": null,
      "outputs": [
        {
          "output_type": "execute_result",
          "data": {
            "text/plain": [
              "8.0"
            ]
          },
          "metadata": {},
          "execution_count": 2
        }
      ]
    },
    {
      "cell_type": "code",
      "source": [
        "help(raiz_quadrada)"
      ],
      "metadata": {
        "colab": {
          "base_uri": "https://localhost:8080/"
        },
        "id": "dSfvmbwrWaXk",
        "outputId": "d42c3be6-f177-41a6-e8cc-54d14ea0d95c"
      },
      "execution_count": null,
      "outputs": [
        {
          "output_type": "stream",
          "name": "stdout",
          "text": [
            "Help on function raiz_quadrada in module __main__:\n",
            "\n",
            "raiz_quadrada(x)\n",
            "\n"
          ]
        }
      ]
    },
    {
      "cell_type": "code",
      "source": [
        "def raiz_n(x, n):\n",
        "    return x ** (1 / n)"
      ],
      "metadata": {
        "id": "Oj7qliZpWksx"
      },
      "execution_count": null,
      "outputs": []
    },
    {
      "cell_type": "code",
      "source": [
        "raiz_n(81, 4)"
      ],
      "metadata": {
        "colab": {
          "base_uri": "https://localhost:8080/"
        },
        "id": "ajM8vAnhWxgM",
        "outputId": "784270b1-4e0f-42b6-d30a-fe00057d4c0d"
      },
      "execution_count": null,
      "outputs": [
        {
          "output_type": "execute_result",
          "data": {
            "text/plain": [
              "3.0"
            ]
          },
          "metadata": {},
          "execution_count": 5
        }
      ]
    },
    {
      "cell_type": "code",
      "source": [
        "def raiz_n(x, n=2):\n",
        "    return x ** (1 / n)"
      ],
      "metadata": {
        "id": "IDLJZpU-W46s"
      },
      "execution_count": null,
      "outputs": []
    },
    {
      "cell_type": "code",
      "source": [
        "raiz_n(81)"
      ],
      "metadata": {
        "colab": {
          "base_uri": "https://localhost:8080/"
        },
        "id": "_JoOlPHEXCpc",
        "outputId": "154ec7dd-ead4-439f-96ba-ea9aafb40837"
      },
      "execution_count": null,
      "outputs": [
        {
          "output_type": "execute_result",
          "data": {
            "text/plain": [
              "9.0"
            ]
          },
          "metadata": {},
          "execution_count": 7
        }
      ]
    },
    {
      "cell_type": "code",
      "source": [
        "def raiz_n(x, n=None):\n",
        "    if n: \n",
        "        return x ** (1 / n)\n",
        "    else:   \n",
        "        return x ** (1 / 2)"
      ],
      "metadata": {
        "id": "dcdoNPwXXGeI"
      },
      "execution_count": null,
      "outputs": []
    },
    {
      "cell_type": "code",
      "source": [
        "raiz_n(81, 4)"
      ],
      "metadata": {
        "colab": {
          "base_uri": "https://localhost:8080/"
        },
        "id": "h080OCfNX0Fv",
        "outputId": "bb846743-01bb-4c95-ae00-b1e998dc5935"
      },
      "execution_count": null,
      "outputs": [
        {
          "output_type": "execute_result",
          "data": {
            "text/plain": [
              "3.0"
            ]
          },
          "metadata": {},
          "execution_count": 9
        }
      ]
    },
    {
      "cell_type": "code",
      "source": [
        "print('mensagem 1', 'mensagem 2', 'mensagem 3', sep='\\n')"
      ],
      "metadata": {
        "colab": {
          "base_uri": "https://localhost:8080/"
        },
        "id": "T1gsHRIBX9Jg",
        "outputId": "3e553ffd-2709-46a6-b330-0955bc4fb394"
      },
      "execution_count": null,
      "outputs": [
        {
          "output_type": "stream",
          "name": "stdout",
          "text": [
            "mensagem 1\n",
            "mensagem 2\n",
            "mensagem 3\n"
          ]
        }
      ]
    },
    {
      "cell_type": "code",
      "source": [
        "def soma(x, y):\n",
        "    return x + y "
      ],
      "metadata": {
        "id": "TVBGEgPzYXm1"
      },
      "execution_count": null,
      "outputs": []
    },
    {
      "cell_type": "code",
      "source": [
        "def soma(*numeros):\n",
        "    return sum(numeros)"
      ],
      "metadata": {
        "id": "eOlJfSWwYi9L"
      },
      "execution_count": null,
      "outputs": []
    },
    {
      "cell_type": "code",
      "source": [
        "soma(1, 2, 3, 5, 10, -2)"
      ],
      "metadata": {
        "colab": {
          "base_uri": "https://localhost:8080/"
        },
        "id": "N7oD37ffY2BA",
        "outputId": "959dc422-38d7-4030-b9bc-359afd9563a7"
      },
      "execution_count": null,
      "outputs": [
        {
          "output_type": "execute_result",
          "data": {
            "text/plain": [
              "19"
            ]
          },
          "metadata": {},
          "execution_count": 13
        }
      ]
    },
    {
      "cell_type": "code",
      "source": [
        "def soma(*numeros):\n",
        "\n",
        "    print(numeros, len(numeros), type(numeros))\n",
        "    soma = 0\n",
        "    for num in numeros:\n",
        "        soma += num\n",
        "\n",
        "    return soma "
      ],
      "metadata": {
        "id": "qYLxoUyMY8X8"
      },
      "execution_count": null,
      "outputs": []
    },
    {
      "cell_type": "code",
      "source": [
        "soma(1, 2, 3)"
      ],
      "metadata": {
        "colab": {
          "base_uri": "https://localhost:8080/"
        },
        "id": "z_yf1nL5ZqiZ",
        "outputId": "0ef488bf-e0d2-4820-9858-cf1461409835"
      },
      "execution_count": null,
      "outputs": [
        {
          "output_type": "stream",
          "name": "stdout",
          "text": [
            "(1, 2, 3) 3 <class 'tuple'>\n"
          ]
        },
        {
          "output_type": "execute_result",
          "data": {
            "text/plain": [
              "6"
            ]
          },
          "metadata": {},
          "execution_count": 20
        }
      ]
    },
    {
      "cell_type": "code",
      "source": [
        "print('mensagem 1', 'mensagem 2', **{'end':'!!!\\nfim', 'sep':'!!!\\n'})"
      ],
      "metadata": {
        "colab": {
          "base_uri": "https://localhost:8080/"
        },
        "id": "sYEtr4jXZxGp",
        "outputId": "a3532645-b162-45c0-b882-0f844971191c"
      },
      "execution_count": null,
      "outputs": [
        {
          "output_type": "stream",
          "name": "stdout",
          "text": [
            "mensagem 1!!!\n",
            "mensagem 2!!!\n",
            "fim"
          ]
        }
      ]
    },
    {
      "cell_type": "code",
      "source": [
        "def reetorna_o_maior_valor(a, b, **kwargs):\n",
        "\n",
        "    if 'verbose' in kwargs:\n",
        "        if kwargs['verbose'] == True:\n",
        "            if a == b:\n",
        "                print('Os valores são iguais.')\n",
        "            else:\n",
        "                print(f'{max(a, b)} é maior que {min(a, b)}')\n",
        "    \n",
        "    return max(a, b)"
      ],
      "metadata": {
        "id": "38pHyVzHjpM_"
      },
      "execution_count": null,
      "outputs": []
    },
    {
      "cell_type": "code",
      "source": [
        "reetorna_o_maior_valor(1, -2, verbose=False)"
      ],
      "metadata": {
        "colab": {
          "base_uri": "https://localhost:8080/"
        },
        "id": "ijqmOD0uj6Ca",
        "outputId": "73d994bb-0101-42ab-8063-242293461d98"
      },
      "execution_count": null,
      "outputs": [
        {
          "output_type": "execute_result",
          "data": {
            "text/plain": [
              "1"
            ]
          },
          "metadata": {},
          "execution_count": 35
        }
      ]
    },
    {
      "cell_type": "code",
      "source": [
        "def retorna_faixa_de_valores(lista_de_valores):\n",
        "    return max(lista_de_valores), min(lista_de_valores)"
      ],
      "metadata": {
        "id": "4dMx5c0DkziD"
      },
      "execution_count": null,
      "outputs": []
    },
    {
      "cell_type": "code",
      "source": [
        "retorna_faixa_de_valores([1, 2, -1, 10, -30])"
      ],
      "metadata": {
        "colab": {
          "base_uri": "https://localhost:8080/"
        },
        "id": "NnP3Bt3WmHYD",
        "outputId": "4636cab6-7609-48c6-e22a-9cea34867407"
      },
      "execution_count": null,
      "outputs": [
        {
          "output_type": "execute_result",
          "data": {
            "text/plain": [
              "(10, -30)"
            ]
          },
          "metadata": {},
          "execution_count": 38
        }
      ]
    },
    {
      "cell_type": "code",
      "source": [
        "max_val, min_val = retorna_faixa_de_valores([1, 2, -1, 10, -30])"
      ],
      "metadata": {
        "id": "he5WP2nVmRq8"
      },
      "execution_count": null,
      "outputs": []
    },
    {
      "cell_type": "code",
      "source": [
        "print(max_val, min_val)"
      ],
      "metadata": {
        "colab": {
          "base_uri": "https://localhost:8080/"
        },
        "id": "84sWVmcnmffw",
        "outputId": "1118f271-9edb-4a28-ead4-1b3fa9134a71"
      },
      "execution_count": null,
      "outputs": [
        {
          "output_type": "stream",
          "name": "stdout",
          "text": [
            "10 -30\n"
          ]
        }
      ]
    },
    {
      "cell_type": "code",
      "source": [],
      "metadata": {
        "id": "nCBw5dz2mmew"
      },
      "execution_count": null,
      "outputs": []
    }
  ]
}