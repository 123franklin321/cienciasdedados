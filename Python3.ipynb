{
  "nbformat": 4,
  "nbformat_minor": 0,
  "metadata": {
    "colab": {
      "provenance": [],
      "collapsed_sections": [],
      "authorship_tag": "ABX9TyPuM2h7VFMNuMnzOrTJKqgO",
      "include_colab_link": true
    },
    "kernelspec": {
      "name": "python3",
      "display_name": "Python 3"
    },
    "language_info": {
      "name": "python"
    }
  },
  "cells": [
    {
      "cell_type": "markdown",
      "metadata": {
        "id": "view-in-github",
        "colab_type": "text"
      },
      "source": [
        "<a href=\"https://colab.research.google.com/github/123franklin321/meu_primeiro_codigo.py/blob/master/Python3.ipynb\" target=\"_parent\"><img src=\"https://colab.research.google.com/assets/colab-badge.svg\" alt=\"Open In Colab\"/></a>"
      ]
    },
    {
      "cell_type": "code",
      "execution_count": null,
      "metadata": {
        "id": "xSr1SeU6SJKU"
      },
      "outputs": [],
      "source": [
        "def imprima_boas_vindas():\n",
        "    print('Boas vindas ao curso!')"
      ]
    },
    {
      "cell_type": "code",
      "source": [
        "imprima_boas_vindas()"
      ],
      "metadata": {
        "colab": {
          "base_uri": "https://localhost:8080/"
        },
        "id": "jFN4lM2TS7zw",
        "outputId": "08b72f45-d5ff-4c44-91f5-0093b4634ff6"
      },
      "execution_count": null,
      "outputs": [
        {
          "output_type": "stream",
          "name": "stdout",
          "text": [
            "Boas vindas ao curso!\n"
          ]
        }
      ]
    },
    {
      "cell_type": "code",
      "source": [
        "def imprima_boas_vindas(nome):\n",
        "    print(f'{nome}, Boas vindas ao curso!')"
      ],
      "metadata": {
        "id": "Y5RNyHIZTBJE"
      },
      "execution_count": null,
      "outputs": []
    },
    {
      "cell_type": "code",
      "source": [
        "imprima_boas_vindas('Ana')"
      ],
      "metadata": {
        "colab": {
          "base_uri": "https://localhost:8080/"
        },
        "id": "fO5cnyUqTN4-",
        "outputId": "9ad55282-6058-43b9-a233-ac183ea45ef9"
      },
      "execution_count": null,
      "outputs": [
        {
          "output_type": "stream",
          "name": "stdout",
          "text": [
            "Ana, Boas vindas ao curso!\n"
          ]
        }
      ]
    },
    {
      "cell_type": "code",
      "source": [
        "def imprima_boas_vindas():\n",
        "    print('Boas vindas ao curso!')\n",
        "    return True "
      ],
      "metadata": {
        "id": "RST4W8rmTS3n"
      },
      "execution_count": null,
      "outputs": []
    },
    {
      "cell_type": "code",
      "source": [
        "saida = imprima_boas_vindas()"
      ],
      "metadata": {
        "colab": {
          "base_uri": "https://localhost:8080/"
        },
        "id": "slAeYXEbTc7X",
        "outputId": "bd597c1c-a0c6-4fe6-8e2d-a3bfa1f04469"
      },
      "execution_count": null,
      "outputs": [
        {
          "output_type": "stream",
          "name": "stdout",
          "text": [
            "Boas vindas ao curso!\n"
          ]
        }
      ]
    },
    {
      "cell_type": "code",
      "source": [
        "saida"
      ],
      "metadata": {
        "colab": {
          "base_uri": "https://localhost:8080/"
        },
        "id": "sBWF1m8nT7eQ",
        "outputId": "0db7c426-c1cd-46ed-8aa6-788d93f36f47"
      },
      "execution_count": null,
      "outputs": [
        {
          "output_type": "execute_result",
          "data": {
            "text/plain": [
              "True"
            ]
          },
          "metadata": {},
          "execution_count": 10
        }
      ]
    },
    {
      "cell_type": "code",
      "source": [
        "def imprima_boas_vindas():\n",
        "    print('Boas vindas ao curso!')\n",
        "    return 1"
      ],
      "metadata": {
        "id": "55tzmnLyUKp2"
      },
      "execution_count": null,
      "outputs": []
    },
    {
      "cell_type": "code",
      "source": [
        "func = imprima_boas_vindas"
      ],
      "metadata": {
        "id": "zYFSE7UrUbU4"
      },
      "execution_count": null,
      "outputs": []
    },
    {
      "cell_type": "code",
      "source": [
        "type(func)"
      ],
      "metadata": {
        "colab": {
          "base_uri": "https://localhost:8080/"
        },
        "id": "HzBRkZ6mUg-f",
        "outputId": "a2d895ac-b16d-444f-c9b6-5504011ad85a"
      },
      "execution_count": null,
      "outputs": [
        {
          "output_type": "execute_result",
          "data": {
            "text/plain": [
              "function"
            ]
          },
          "metadata": {},
          "execution_count": 16
        }
      ]
    },
    {
      "cell_type": "code",
      "source": [
        "def apresentacao(meu_nome,idade):\n",
        "    print('Óla, meu_nome, a sua idade é:', idade)"
      ],
      "metadata": {
        "id": "q4qvLWYWUvNe"
      },
      "execution_count": null,
      "outputs": []
    },
    {
      "cell_type": "code",
      "source": [
        "apresentacao('Franklin', 42)"
      ],
      "metadata": {
        "colab": {
          "base_uri": "https://localhost:8080/"
        },
        "id": "W51bAILSVL4F",
        "outputId": "c2adcbbb-18aa-4509-94a1-bc55e068224a"
      },
      "execution_count": null,
      "outputs": [
        {
          "output_type": "stream",
          "name": "stdout",
          "text": [
            "Óla, meu_nome, a sua idade é: 42\n"
          ]
        }
      ]
    }
  ]
}