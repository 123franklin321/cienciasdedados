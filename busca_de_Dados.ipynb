{
  "nbformat": 4,
  "nbformat_minor": 0,
  "metadata": {
    "colab": {
      "provenance": [],
      "authorship_tag": "ABX9TyPi2GH+UdGQTAkbLkTtUTxX",
      "include_colab_link": true
    },
    "kernelspec": {
      "name": "python3",
      "display_name": "Python 3"
    },
    "language_info": {
      "name": "python"
    }
  },
  "cells": [
    {
      "cell_type": "markdown",
      "metadata": {
        "id": "view-in-github",
        "colab_type": "text"
      },
      "source": [
        "<a href=\"https://colab.research.google.com/github/123franklin321/cienciasdedados/blob/master/busca_de_Dados.ipynb\" target=\"_parent\"><img src=\"https://colab.research.google.com/assets/colab-badge.svg\" alt=\"Open In Colab\"/></a>"
      ]
    },
    {
      "cell_type": "code",
      "source": [
        "import sys\n",
        "sys.path.append(\"/your/path/to/\")"
      ],
      "metadata": {
        "id": "QeMe5p6LukLd"
      },
      "execution_count": 5,
      "outputs": []
    },
    {
      "cell_type": "code",
      "source": [
        "from requests import get\n",
        "from bs4 import BeautifulSoup"
      ],
      "metadata": {
        "id": "6pgSyC9TvTR9"
      },
      "execution_count": 6,
      "outputs": []
    },
    {
      "cell_type": "code",
      "source": [
        "import pandas as pd\n",
        "import numpy as np\n",
        "import time \n",
        "import re "
      ],
      "metadata": {
        "id": "mUQqsCVbveP2"
      },
      "execution_count": 7,
      "outputs": []
    },
    {
      "cell_type": "code",
      "source": [
        "url = 'https://www.hostelworld.com/hostels/Berlin'\n",
        "response = get(url)"
      ],
      "metadata": {
        "id": "JJaoRiD_vn_t"
      },
      "execution_count": 8,
      "outputs": []
    },
    {
      "cell_type": "code",
      "source": [
        "soup = BeautifulSoup(response.text, 'html.parser')"
      ],
      "metadata": {
        "id": "WTTbelHSv0NA"
      },
      "execution_count": 9,
      "outputs": []
    },
    {
      "cell_type": "code",
      "source": [
        "holstel_containers= soup.findAll(class_= 'fabresult rounded clearfix hwta-propetry')"
      ],
      "metadata": {
        "id": "SU_JTyW2v-Bi"
      },
      "execution_count": 10,
      "outputs": []
    },
    {
      "cell_type": "code",
      "source": [
        "len(holstel_containers)"
      ],
      "metadata": {
        "colab": {
          "base_uri": "https://localhost:8080/"
        },
        "id": "ZHYXxn57wh41",
        "outputId": "94564a33-826a-42d5-88af-c7d0381d5b7e"
      },
      "execution_count": 11,
      "outputs": [
        {
          "output_type": "execute_result",
          "data": {
            "text/plain": [
              "0"
            ]
          },
          "metadata": {},
          "execution_count": 11
        }
      ]
    },
    {
      "cell_type": "code",
      "source": [
        "hostel_names= []\n",
        "hostel_links= []\n",
        "hostel_distance= []\n",
        "hostel_ratings= []\n",
        "hostel_reviews= []\n",
        "hostel_prices= []\n",
        "\n",
        "for page in np.arange(1,4): # to iterate over the pages and create the conteiners\n",
        "  url = 'https://www.hostelworld.com/hostels/Berlin?page=' + str(page)\n",
        "  response = get(url)\n",
        "  soup = BeautifulSoup(response.text, 'html.parser')\n",
        "  holstel_containers= soup.findAll(class_= 'fabresult rounded clearfix hwta-property')\n",
        "\n",
        "  for item in range(len(holstel_containers)): # to iterate over the results on each page\n",
        "    hostel_names.append(holstel_containers[item].h2.a.text)\n",
        "    hostel_links.append(holstel_containers[item].h2.a.get('href'))\n",
        "    hostel_distance.append(holstel_containers[item].find(class_= \"addressline\").text[12:18].replace('k','').replace('m','').strip())\n",
        "    hostel_ratings.append(holstel_containers[item].find(class_='hwta-rating-score').text.replace('\\n', '').strip())\n",
        "    hostel_reviews.append(holstel_containers[item].find(class_=\"hwta-rating-counter\").text.replace('\\n', '').strip())\n",
        "    hostel_prices.append(holstel_containers[item].find(class_= \"price\").text.replace('\\n', '').strip()[3:])                          \n",
        "  time.sleep(2) # this is used to not push too hard on the website"
      ],
      "metadata": {
        "id": "vtizR6jFz6mo"
      },
      "execution_count": 22,
      "outputs": []
    },
    {
      "cell_type": "code",
      "source": [
        "hw_berlin = pd.DataFrame({\n",
        "    'hostel_name': hostel_names,\n",
        "    'distance_centre_km': hostel_distance,\n",
        "    'average_rating': hostel_ratings,\n",
        "    'number_reviews': hostel_reviews,\n",
        "    'average_price_usd': hostel_prices,\n",
        "    'hw_link': hostel_links\n",
        "})"
      ],
      "metadata": {
        "id": "Tu5BN3q60L2q"
      },
      "execution_count": 23,
      "outputs": []
    },
    {
      "cell_type": "code",
      "source": [
        "hw_berlin.distance_centre_km = [re.sub('[^0-9.]','', x) for x in hw_berlin.distance_centre_km]"
      ],
      "metadata": {
        "id": "55Ozyi7B0SDl"
      },
      "execution_count": 24,
      "outputs": []
    }
  ]
}