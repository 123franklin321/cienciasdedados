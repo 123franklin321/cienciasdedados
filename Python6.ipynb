{
  "nbformat": 4,
  "nbformat_minor": 0,
  "metadata": {
    "colab": {
      "provenance": [],
      "collapsed_sections": [],
      "authorship_tag": "ABX9TyPfURKa8QLfPNFtSkJPelrE",
      "include_colab_link": true
    },
    "kernelspec": {
      "name": "python3",
      "display_name": "Python 3"
    },
    "language_info": {
      "name": "python"
    }
  },
  "cells": [
    {
      "cell_type": "markdown",
      "metadata": {
        "id": "view-in-github",
        "colab_type": "text"
      },
      "source": [
        "<a href=\"https://colab.research.google.com/github/123franklin321/meu_primeiro_codigo.py/blob/master/Python6.ipynb\" target=\"_parent\"><img src=\"https://colab.research.google.com/assets/colab-badge.svg\" alt=\"Open In Colab\"/></a>"
      ]
    },
    {
      "cell_type": "code",
      "execution_count": null,
      "metadata": {
        "id": "7saoJ-PnD49H"
      },
      "outputs": [],
      "source": [
        "import numpy as np"
      ]
    },
    {
      "cell_type": "code",
      "source": [
        "minha_array = np.array([1, 2, 3, 4, 5, 6])\n",
        "print(minha_array, type(minha_array))"
      ],
      "metadata": {
        "colab": {
          "base_uri": "https://localhost:8080/"
        },
        "id": "rU9LQnoJEB1p",
        "outputId": "0cb74254-b5bc-446d-9d63-d3e162fc53c5"
      },
      "execution_count": null,
      "outputs": [
        {
          "output_type": "stream",
          "name": "stdout",
          "text": [
            "[1 2 3 4 5 6] <class 'numpy.ndarray'>\n"
          ]
        }
      ]
    },
    {
      "cell_type": "code",
      "source": [
        "minha_array.shape"
      ],
      "metadata": {
        "colab": {
          "base_uri": "https://localhost:8080/"
        },
        "id": "mlo2Q5OlEdm7",
        "outputId": "946ad0b3-51a3-41b7-c2b0-b156444ba276"
      },
      "execution_count": null,
      "outputs": [
        {
          "output_type": "execute_result",
          "data": {
            "text/plain": [
              "(6,)"
            ]
          },
          "metadata": {},
          "execution_count": 4
        }
      ]
    },
    {
      "cell_type": "code",
      "source": [
        "minha_array.reshape(6, 1)"
      ],
      "metadata": {
        "colab": {
          "base_uri": "https://localhost:8080/"
        },
        "id": "Lgmt3rgbEq9H",
        "outputId": "0ea44b47-cf45-41d8-9021-2a96c548f92e"
      },
      "execution_count": null,
      "outputs": [
        {
          "output_type": "execute_result",
          "data": {
            "text/plain": [
              "array([[1],\n",
              "       [2],\n",
              "       [3],\n",
              "       [4],\n",
              "       [5],\n",
              "       [6]])"
            ]
          },
          "metadata": {},
          "execution_count": 8
        }
      ]
    },
    {
      "cell_type": "code",
      "source": [
        "minha_array.reshape(2, 3)"
      ],
      "metadata": {
        "colab": {
          "base_uri": "https://localhost:8080/"
        },
        "id": "mec3mYxXE-rI",
        "outputId": "5b9021a2-eb5c-4a89-f2e9-924885f07e8f"
      },
      "execution_count": null,
      "outputs": [
        {
          "output_type": "execute_result",
          "data": {
            "text/plain": [
              "array([[1, 2, 3],\n",
              "       [4, 5, 6]])"
            ]
          },
          "metadata": {},
          "execution_count": 9
        }
      ]
    },
    {
      "cell_type": "code",
      "source": [
        "np.mean"
      ],
      "metadata": {
        "colab": {
          "base_uri": "https://localhost:8080/"
        },
        "id": "LE-JMVeEFClq",
        "outputId": "66a30221-ac52-475e-d173-ea092240f0b7"
      },
      "execution_count": null,
      "outputs": [
        {
          "output_type": "execute_result",
          "data": {
            "text/plain": [
              "<function numpy.mean(a, axis=None, dtype=None, out=None, keepdims=<no value>, *, where=<no value>)>"
            ]
          },
          "metadata": {},
          "execution_count": 10
        }
      ]
    },
    {
      "cell_type": "code",
      "source": [
        "def media_geometrica(array_np):\n",
        "    '''Array flat do numpy (uma unica dimensão).\n",
        "    '''\n",
        "    return np.prod(array_np)**(1/array_np.size)\n",
        "\n",
        "media_geometrica(minha_array)"
      ],
      "metadata": {
        "colab": {
          "base_uri": "https://localhost:8080/"
        },
        "id": "kW1dZQlGFIAx",
        "outputId": "619ae810-7bd4-4715-f203-ff0e7572805e"
      },
      "execution_count": null,
      "outputs": [
        {
          "output_type": "execute_result",
          "data": {
            "text/plain": [
              "2.993795165523909"
            ]
          },
          "metadata": {},
          "execution_count": 11
        }
      ]
    },
    {
      "cell_type": "code",
      "source": [
        "def media_harmonica(array_np):\n",
        "    '''array_np: array flat do numpy (uma unica dimensão).\n",
        "    '''\n",
        "    return 1/(np.mean(1/array_np))\n",
        "\n",
        "media_harmonica(minha_array)"
      ],
      "metadata": {
        "colab": {
          "base_uri": "https://localhost:8080/"
        },
        "id": "NGUmXPiGG1IO",
        "outputId": "25b17ac7-a5c1-475e-9708-052faccdb43e"
      },
      "execution_count": null,
      "outputs": [
        {
          "output_type": "execute_result",
          "data": {
            "text/plain": [
              "2.448979591836735"
            ]
          },
          "metadata": {},
          "execution_count": 12
        }
      ]
    },
    {
      "cell_type": "code",
      "source": [
        "def media_ponderada(array_amostras, array_pesos):\n",
        "    '''entradas sao arrays flattened (uma unica dimensao no shape)\n",
        "    '''\n",
        "    return (array_amostras * array_pesos).sum() / array_pesos.sum()"
      ],
      "metadata": {
        "id": "gEVF0st5HsD0"
      },
      "execution_count": null,
      "outputs": []
    },
    {
      "cell_type": "code",
      "source": [
        "lucro_unitario = np.array([10., 1., 2.])\n",
        "volume_de_vendas = np.array([100, 5000, 500])\n",
        "\n",
        "media_ponderada(lucro_unitario, volume_de_vendas)\n"
      ],
      "metadata": {
        "id": "vkDqKARwJdz7",
        "colab": {
          "base_uri": "https://localhost:8080/"
        },
        "outputId": "9fc91095-565e-48bb-ce04-2aca72f52f7f"
      },
      "execution_count": null,
      "outputs": [
        {
          "output_type": "execute_result",
          "data": {
            "text/plain": [
              "1.25"
            ]
          },
          "metadata": {},
          "execution_count": 17
        }
      ]
    },
    {
      "cell_type": "code",
      "source": [
        "np.array([10, 5]) * np.array([-1, 0.1]) "
      ],
      "metadata": {
        "colab": {
          "base_uri": "https://localhost:8080/",
          "height": 165
        },
        "id": "uiS-Lw7IIVZg",
        "outputId": "e4edc025-9c71-4f27-9168-8f8ca9fe4c48"
      },
      "execution_count": null,
      "outputs": [
        {
          "output_type": "error",
          "ename": "NameError",
          "evalue": "ignored",
          "traceback": [
            "\u001b[0;31m---------------------------------------------------------------------------\u001b[0m",
            "\u001b[0;31mNameError\u001b[0m                                 Traceback (most recent call last)",
            "\u001b[0;32m<ipython-input-3-7f3205e3fab5>\u001b[0m in \u001b[0;36m<module>\u001b[0;34m\u001b[0m\n\u001b[0;32m----> 1\u001b[0;31m \u001b[0mnp\u001b[0m\u001b[0;34m.\u001b[0m\u001b[0marray\u001b[0m\u001b[0;34m(\u001b[0m\u001b[0;34m[\u001b[0m\u001b[0;36m10\u001b[0m\u001b[0;34m,\u001b[0m \u001b[0;36m5\u001b[0m\u001b[0;34m]\u001b[0m\u001b[0;34m)\u001b[0m \u001b[0;34m*\u001b[0m \u001b[0mnp\u001b[0m\u001b[0;34m.\u001b[0m\u001b[0marray\u001b[0m\u001b[0;34m(\u001b[0m\u001b[0;34m[\u001b[0m\u001b[0;34m-\u001b[0m\u001b[0;36m1\u001b[0m\u001b[0;34m,\u001b[0m \u001b[0;36m0.1\u001b[0m\u001b[0;34m]\u001b[0m\u001b[0;34m)\u001b[0m\u001b[0;34m\u001b[0m\u001b[0;34m\u001b[0m\u001b[0m\n\u001b[0m",
            "\u001b[0;31mNameError\u001b[0m: name 'np' is not defined"
          ]
        }
      ]
    },
    {
      "cell_type": "code",
      "source": [
        "precos_lojas = dict({'Loja_A': 1000.0,\n",
        "              'Loja_B': 1100.0,\n",
        "               'Loja_C': 950.0,\n",
        "               'Loja_D': 1250.0,\n",
        "               'Loja_E': 10000.0,})\n",
        "precos_lojas"
      ],
      "metadata": {
        "id": "Zwd4xGgeIhjB",
        "colab": {
          "base_uri": "https://localhost:8080/"
        },
        "outputId": "faa78401-aeda-4e10-a904-38fbc328a872"
      },
      "execution_count": null,
      "outputs": [
        {
          "output_type": "execute_result",
          "data": {
            "text/plain": [
              "{'Loja_A': 1000.0,\n",
              " 'Loja_B': 1100.0,\n",
              " 'Loja_C': 950.0,\n",
              " 'Loja_D': 1250.0,\n",
              " 'Loja_E': 10000.0}"
            ]
          },
          "metadata": {},
          "execution_count": 4
        }
      ]
    },
    {
      "cell_type": "code",
      "source": [
        "np.array(list(precos_lojas.values())).mean()"
      ],
      "metadata": {
        "colab": {
          "base_uri": "https://localhost:8080/"
        },
        "id": "Alx92J2zTgKk",
        "outputId": "a7b5f98c-ef61-46b2-e2d7-14fbb687175d"
      },
      "execution_count": null,
      "outputs": [
        {
          "output_type": "execute_result",
          "data": {
            "text/plain": [
              "2860.0"
            ]
          },
          "metadata": {},
          "execution_count": 9
        }
      ]
    },
    {
      "cell_type": "code",
      "source": [
        "precos = np.array(list(precos_lojas.values()))\n",
        "precos"
      ],
      "metadata": {
        "colab": {
          "base_uri": "https://localhost:8080/"
        },
        "id": "5RhZOqrGU0AO",
        "outputId": "638c8925-1824-4cb6-a83f-e7174f905bb0"
      },
      "execution_count": null,
      "outputs": [
        {
          "output_type": "execute_result",
          "data": {
            "text/plain": [
              "array([ 1000.,  1100.,   950.,  1250., 10000.])"
            ]
          },
          "metadata": {},
          "execution_count": 10
        }
      ]
    },
    {
      "cell_type": "code",
      "source": [
        "def mediana_array_numpy(arr):\n",
        "    '''arr: entrada flatened\n",
        "    '''\n",
        "    arr = np.sort(arr)\n",
        "\n",
        "    arr_len = arr.size\n",
        "\n",
        "    centro = (arr_len - 1) / 2\n",
        "\n",
        "    if centro % 1 == 0:\n",
        "        mediana = arr[int(centro)]\n",
        "    else: \n",
        "        mediana = arr[int(np.floor(centro)):int(np.floor(centro) + 2)].mean()\n",
        "\n",
        "    return mediana\n",
        "\n",
        "    "
      ],
      "metadata": {
        "id": "5WT5Xb0MVfkJ"
      },
      "execution_count": null,
      "outputs": []
    },
    {
      "cell_type": "code",
      "source": [
        "np.sort(precos)"
      ],
      "metadata": {
        "colab": {
          "base_uri": "https://localhost:8080/"
        },
        "id": "p4TWjIVhVnOg",
        "outputId": "3c91de9d-db2c-4cf3-d62d-d920e2ac95b8"
      },
      "execution_count": null,
      "outputs": [
        {
          "output_type": "execute_result",
          "data": {
            "text/plain": [
              "array([  950.,  1000.,  1100.,  1250., 10000.])"
            ]
          },
          "metadata": {},
          "execution_count": 25
        }
      ]
    },
    {
      "cell_type": "code",
      "source": [
        "arr_precos = np.array([950.0, 1000.0, 1100.0, 1250.0, 10000.0, 1200.])"
      ],
      "metadata": {
        "id": "ltCwlfa8aaXZ"
      },
      "execution_count": null,
      "outputs": []
    },
    {
      "cell_type": "code",
      "source": [
        "np.sort(precos)"
      ],
      "metadata": {
        "colab": {
          "base_uri": "https://localhost:8080/"
        },
        "id": "pC8Wc_y-bKNz",
        "outputId": "601b52ae-47f0-4603-dce0-df8f14e97d4a"
      },
      "execution_count": null,
      "outputs": [
        {
          "output_type": "execute_result",
          "data": {
            "text/plain": [
              "array([  950.,  1000.,  1100.,  1250., 10000.])"
            ]
          },
          "metadata": {},
          "execution_count": 27
        }
      ]
    },
    {
      "cell_type": "code",
      "source": [
        "mediana_array_numpy(arr_precos)"
      ],
      "metadata": {
        "colab": {
          "base_uri": "https://localhost:8080/"
        },
        "id": "QDtPixUPYPQw",
        "outputId": "de9edbf3-329d-4dce-d8a6-e248276a1961"
      },
      "execution_count": null,
      "outputs": [
        {
          "output_type": "execute_result",
          "data": {
            "text/plain": [
              "1150.0"
            ]
          },
          "metadata": {},
          "execution_count": 28
        }
      ]
    },
    {
      "cell_type": "code",
      "source": [
        "import pandas as pd"
      ],
      "metadata": {
        "id": "tId4uBSobXrs"
      },
      "execution_count": null,
      "outputs": []
    },
    {
      "cell_type": "code",
      "source": [
        "pd.Series(arr_precos) # .median()"
      ],
      "metadata": {
        "colab": {
          "base_uri": "https://localhost:8080/"
        },
        "id": "S7QG5vKibfIu",
        "outputId": "4506c463-394d-4b94-e34c-34930bb97757"
      },
      "execution_count": null,
      "outputs": [
        {
          "output_type": "execute_result",
          "data": {
            "text/plain": [
              "0      950.0\n",
              "1     1000.0\n",
              "2     1100.0\n",
              "3     1250.0\n",
              "4    10000.0\n",
              "5     1200.0\n",
              "dtype: float64"
            ]
          },
          "metadata": {},
          "execution_count": 31
        }
      ]
    },
    {
      "cell_type": "code",
      "source": [
        "from numpy.lib.function_base import median\n",
        "arr = np.random.randint(1, 100, 7)\n",
        "print(np.sort(arr))\n",
        "(mediana_array_numpy(arr),\n",
        "pd.Series(arr).median()\n",
        ")"
      ],
      "metadata": {
        "colab": {
          "base_uri": "https://localhost:8080/"
        },
        "id": "ryaPCe8AdAhJ",
        "outputId": "d8ff591f-42a5-4d09-e33e-95236579e57e"
      },
      "execution_count": null,
      "outputs": [
        {
          "output_type": "stream",
          "name": "stdout",
          "text": [
            "[27 50 74 77 78 87 96]\n"
          ]
        },
        {
          "output_type": "execute_result",
          "data": {
            "text/plain": [
              "(77, 77.0)"
            ]
          },
          "metadata": {},
          "execution_count": 40
        }
      ]
    }
  ]
}