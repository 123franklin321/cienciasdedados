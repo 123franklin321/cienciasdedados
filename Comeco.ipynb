{
  "nbformat": 4,
  "nbformat_minor": 0,
  "metadata": {
    "colab": {
      "provenance": [],
      "collapsed_sections": [],
      "authorship_tag": "ABX9TyPdz5slN6rw97MB2SZzZ+CH",
      "include_colab_link": true
    },
    "kernelspec": {
      "name": "python3",
      "display_name": "Python 3"
    },
    "language_info": {
      "name": "python"
    }
  },
  "cells": [
    {
      "cell_type": "markdown",
      "metadata": {
        "id": "view-in-github",
        "colab_type": "text"
      },
      "source": [
        "<a href=\"https://colab.research.google.com/github/123franklin321/meu_primeiro_codigo.py/blob/master/Comeco.ipynb\" target=\"_parent\"><img src=\"https://colab.research.google.com/assets/colab-badge.svg\" alt=\"Open In Colab\"/></a>"
      ]
    },
    {
      "cell_type": "code",
      "execution_count": 2,
      "metadata": {
        "id": "de3r3FfxUQJZ"
      },
      "outputs": [],
      "source": [
        "import numpy as np\n",
        "import pandas as pd\n",
        "import matplotlib.pyplot as plt"
      ]
    },
    {
      "cell_type": "code",
      "source": [
        "import random\n",
        "random.seed(10)\n",
        "four_uniform_randoms = [random.random() for _ in range(4)]\n",
        "random.seed(10)\n",
        "print(random.random())"
      ],
      "metadata": {
        "colab": {
          "base_uri": "https://localhost:8080/"
        },
        "id": "Ca69fQm-VEjQ",
        "outputId": "a8d1374a-d768-4db5-dc8d-82edb2279ab0"
      },
      "execution_count": 5,
      "outputs": [
        {
          "output_type": "stream",
          "name": "stdout",
          "text": [
            "0.5714025946899135\n"
          ]
        }
      ]
    },
    {
      "cell_type": "code",
      "source": [
        "import re "
      ],
      "metadata": {
        "id": "pvnzjxY_WdpQ"
      },
      "execution_count": 6,
      "outputs": []
    },
    {
      "cell_type": "code",
      "source": [
        "re_examples = [\n",
        "    not re.match('a', 'cat'),\n",
        "    re.search('a', 'cat'),\n",
        "    not re.search('c', 'dog'),\n",
        "    3 == len(re.split('[ab]', 'carbs')),\n",
        "    'R-D-' == re.sub('[0,9]', '-', 'R2D2')\n",
        "]"
      ],
      "metadata": {
        "id": "jk8agcPlXZwv"
      },
      "execution_count": 10,
      "outputs": []
    },
    {
      "cell_type": "code",
      "source": [
        "list1 = ['a', 'b', 'c']\n",
        "list2 = [1, 2, 3]"
      ],
      "metadata": {
        "id": "og4NfJZhZFM5"
      },
      "execution_count": 11,
      "outputs": []
    },
    {
      "cell_type": "code",
      "source": [
        "[pair for pair in zip(list1, list2)]"
      ],
      "metadata": {
        "colab": {
          "base_uri": "https://localhost:8080/"
        },
        "id": "Gc-Wj_qLZtxE",
        "outputId": "11357b40-bd3f-422c-cf1d-aee85e056e23"
      },
      "execution_count": 12,
      "outputs": [
        {
          "output_type": "execute_result",
          "data": {
            "text/plain": [
              "[('a', 1), ('b', 2), ('c', 3)]"
            ]
          },
          "metadata": {},
          "execution_count": 12
        }
      ]
    },
    {
      "cell_type": "code",
      "source": [
        "pairs = [('a', 1), ('b', 2), ('c', 3)]\n",
        "letters, numbers = zip(*pairs)\n",
        "letters, numbers = zip(('a', 1), ('b', 2), ('c', 3))\n",
        "def add(a, b): return a + b \n",
        "\n",
        "add(1, 2)\n",
        "try:\n",
        "    add([1, 2])\n",
        "except TypeError:\n",
        "    print('add expects two inputs')\n",
        "add(*[1, 2])"
      ],
      "metadata": {
        "colab": {
          "base_uri": "https://localhost:8080/"
        },
        "id": "-V3jXYN9Z3vi",
        "outputId": "16acce55-6c9a-45f2-9566-21180642b1e6"
      },
      "execution_count": 15,
      "outputs": [
        {
          "output_type": "stream",
          "name": "stdout",
          "text": [
            "add expects two inputs\n"
          ]
        },
        {
          "output_type": "execute_result",
          "data": {
            "text/plain": [
              "3"
            ]
          },
          "metadata": {},
          "execution_count": 15
        }
      ]
    },
    {
      "cell_type": "code",
      "source": [
        "def doubler(f):\n",
        "    def g(x):\n",
        "        return 2 * f(x)"
      ],
      "metadata": {
        "id": "aACVvnXib8kG"
      },
      "execution_count": 2,
      "outputs": []
    }
  ]
}